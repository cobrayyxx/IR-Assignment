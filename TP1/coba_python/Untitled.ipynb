{
 "cells": [
  {
   "cell_type": "code",
   "execution_count": 14,
   "id": "7a045c03-ee82-4d8e-aa0d-cfb7e37186a7",
   "metadata": {},
   "outputs": [],
   "source": [
    "import os\n",
    "\n",
    "with open('file.txt', 'w') as f:\n",
    "    # f.seek(10)\n",
    "    f.write(\"Code is like humor When you have to explain it its bad\")"
   ]
  },
  {
   "cell_type": "code",
   "execution_count": 12,
   "id": "834bb686-8673-4965-817d-c69b85ae4e9b",
   "metadata": {},
   "outputs": [
    {
     "name": "stdout",
     "output_type": "stream",
     "text": [
      "0\n",
      "b'Code'\n"
     ]
    }
   ],
   "source": [
    "with open('file.txt', 'rb') as f:\n",
    "    f.seek(0,0)\n",
    "    # f.seek(3, 1)\n",
    "    print(f.tell())\n",
    "    print(f.read(4))"
   ]
  },
  {
   "cell_type": "code",
   "execution_count": null,
   "id": "9f4522f3-ab74-4f8b-90d6-6c76f5787d4c",
   "metadata": {},
   "outputs": [],
   "source": []
  }
 ],
 "metadata": {
  "kernelspec": {
   "display_name": "Python 3 (ipykernel)",
   "language": "python",
   "name": "python3"
  },
  "language_info": {
   "codemirror_mode": {
    "name": "ipython",
    "version": 3
   },
   "file_extension": ".py",
   "mimetype": "text/x-python",
   "name": "python",
   "nbconvert_exporter": "python",
   "pygments_lexer": "ipython3",
   "version": "3.9.10"
  }
 },
 "nbformat": 4,
 "nbformat_minor": 5
}
